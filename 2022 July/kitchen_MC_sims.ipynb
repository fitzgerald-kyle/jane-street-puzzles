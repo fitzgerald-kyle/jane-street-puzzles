{
 "cells": [
  {
   "cell_type": "markdown",
   "id": "d7562b1d-29ae-4571-827d-0e707429723c",
   "metadata": {},
   "source": [
    "This is just Monte Carlo simulations for verification of the exact analysis, which can be found in markov_analysis.m!"
   ]
  },
  {
   "cell_type": "code",
   "execution_count": 1,
   "id": "e5a0889d-8b93-406a-91ed-694b6f0732eb",
   "metadata": {},
   "outputs": [],
   "source": [
    "from random import choices"
   ]
  },
  {
   "cell_type": "code",
   "execution_count": 2,
   "id": "c6324fbe-e13b-4b3a-bd83-5f0a187e1203",
   "metadata": {},
   "outputs": [],
   "source": [
    "# Generate a large enough adjacency matrix, referencing the picture on \n",
    "# https://www.janestreet.com/puzzles/andys-morning-stroll.png\n",
    "# and using the expected return time on the soccer ball, which is 20\n",
    "maxSteps = 20\n",
    "rows = maxSteps*2 + 3\n",
    "cols = rows\n",
    "\n",
    "adjacencies = {x: [] for x in range(rows*cols)}\n",
    "for i in range(rows):\n",
    "    for j in range(cols):\n",
    "        idx = i*cols + j;\n",
    "        \n",
    "        if (-1)**i * (-1)**j == 1 and idx-cols >= 0:\n",
    "            adjacencies[idx].append(idx-cols)\n",
    "        elif (-1)**i * (-1)**j == -1 and idx+cols <= rows*cols - 1:\n",
    "            adjacencies[idx].append(idx+cols)\n",
    "        \n",
    "        if j != 0:\n",
    "            adjacencies[idx].append(idx-1)\n",
    "        \n",
    "        if j != cols-1:\n",
    "            adjacencies[idx].append(idx+1)"
   ]
  },
  {
   "cell_type": "code",
   "execution_count": 3,
   "id": "5ced5fcb-9dbf-43f4-9a95-cb125370cc18",
   "metadata": {},
   "outputs": [
    {
     "data": {
      "text/plain": [
       "[163, 205, 207]"
      ]
     },
     "execution_count": 3,
     "metadata": {},
     "output_type": "execute_result"
    }
   ],
   "source": [
    "adjacencies[206]"
   ]
  },
  {
   "cell_type": "code",
   "execution_count": 4,
   "id": "7ef63c91-49f0-4382-bea9-4f37cd144cb9",
   "metadata": {},
   "outputs": [],
   "source": [
    "# Run Monte Carlo trials from an index in the center of the board.\n",
    "midIdx = round(rows*cols/2)\n",
    "numTrials = int(1e5)\n",
    "returnCount = 0  # store number of times we return to the start index within 20 steps\n",
    "\n",
    "# random list of indices to determining where to jump next\n",
    "nextIdx = [choices(list(range(3)), k=maxSteps) for x in range(numTrials)]\n",
    "\n",
    "for n in range(numTrials):\n",
    "    currIdx = midIdx\n",
    "    for step in range(maxSteps):\n",
    "        currIdx = adjacencies[currIdx][nextIdx[n][step]]\n",
    "        \n",
    "        if currIdx == midIdx:\n",
    "            returnCount += 1\n",
    "            break\n",
    "            \n",
    "p = (numTrials-returnCount) / numTrials"
   ]
  },
  {
   "cell_type": "code",
   "execution_count": 5,
   "id": "8b7f82b6-5cef-49cb-b507-516b4664be63",
   "metadata": {},
   "outputs": [
    {
     "data": {
      "text/plain": [
       "0.44994"
      ]
     },
     "execution_count": 5,
     "metadata": {},
     "output_type": "execute_result"
    }
   ],
   "source": [
    "# our (approximate) final answer\n",
    "p"
   ]
  },
  {
   "cell_type": "code",
   "execution_count": null,
   "id": "142a32e5-3581-4d00-ad2d-d6c8c05efbcf",
   "metadata": {},
   "outputs": [],
   "source": []
  }
 ],
 "metadata": {
  "kernelspec": {
   "display_name": "Python 3",
   "language": "python",
   "name": "python3"
  },
  "language_info": {
   "codemirror_mode": {
    "name": "ipython",
    "version": 3
   },
   "file_extension": ".py",
   "mimetype": "text/x-python",
   "name": "python",
   "nbconvert_exporter": "python",
   "pygments_lexer": "ipython3",
   "version": "3.8.8"
  }
 },
 "nbformat": 4,
 "nbformat_minor": 5
}
