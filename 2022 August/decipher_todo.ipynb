{
 "cells": [
  {
   "cell_type": "code",
   "execution_count": 5,
   "id": "3839a43c-bcf4-4c02-b4c3-cc56f6b2b8e9",
   "metadata": {},
   "outputs": [],
   "source": [
    "todo_list = 'y t i m o i c z r y z w b u s\\n' + 't e g c i r b p y l k o o r b\\n' + \\\n",
    "            'r e t p e m p l o m p i l z y\\n' + 'e r h i g h l i p e t z x i z\\n' + \\\n",
    "            'b t m l o i s t e r s l i c p\\n' + 'i s s t o p e s t r e e t r k\\n' + \\\n",
    "            'l l t e c z e r e p z u c z e\\n' + 'a l m e p t r z l f z r k u e\\n' + \\\n",
    "            'o z t b r o p x y o o l e g s\\n' + 'e w j a k o r e z t o w p z t\\n' + \\\n",
    "            'u i g r z p c m e p t r z l z\\n' + 't t z l m o p e y i s l z p c\\n' + \\\n",
    "            'z e r z u q s p o s i c z' + ' \\u03BC ' + 'i\\n' + 't l e p p u t c p z l l o h u\\n' + \\\n",
    "            's r z b z y y p e w n s e u' + ' \\u03BC\\n'"
   ]
  },
  {
   "cell_type": "code",
   "execution_count": 6,
   "id": "53df0862-38c0-4b76-a5cd-efeeb76ff103",
   "metadata": {},
   "outputs": [
    {
     "name": "stdout",
     "output_type": "stream",
     "text": [
      "y t i m o i c z r y z w b u s\n",
      "t e g c i r b p y l k o o r b\n",
      "r e t p e m p l o m p i l z y\n",
      "e r h i g h l i p e t z x i z\n",
      "b t m l o i s t e r s l i c p\n",
      "i s s t o p e s t r e e t r k\n",
      "l l t e c z e r e p z u c z e\n",
      "a l m e p t r z l f z r k u e\n",
      "o z t b r o p x y o o l e g s\n",
      "e w j a k o r e z t o w p z t\n",
      "u i g r z p c m e p t r z l z\n",
      "t t z l m o p e y i s l z p c\n",
      "z e r z u q s p o s i c z μ i\n",
      "t l e p p u t c p z l l o h u\n",
      "s r z b z y y p e w n s e u μ\n",
      "\n"
     ]
    }
   ],
   "source": [
    "print(todo_list)"
   ]
  },
  {
   "cell_type": "code",
   "execution_count": 13,
   "id": "d6309b4f-7c5d-479a-97e7-40317dc073e9",
   "metadata": {},
   "outputs": [],
   "source": [
    "subs = {\n",
    "    'y': 'z',\n",
    "    'z': 'a',\n",
    "    'a': 'f',\n",
    "    'f': 'p',\n",
    "    'p': 'n',\n",
    "    'n': '\\u03BC',\n",
    "    '\\u03BC': 'm',\n",
    "    'm': 'c',\n",
    "    'c': 'd',\n",
    "}\n",
    "\n",
    "def do_subs(c: str):\n",
    "    if c in subs.keys():\n",
    "        return subs[c]\n",
    "    return c\n",
    "\n",
    "mod_todo_list = ''.join(map(do_subs, todo_list))"
   ]
  },
  {
   "cell_type": "code",
   "execution_count": 14,
   "id": "0db99375-0e96-40ec-89cf-9dfa285a5898",
   "metadata": {},
   "outputs": [
    {
     "name": "stdout",
     "output_type": "stream",
     "text": [
      "z t i c o i d a r z a w b u s\n",
      "t e g d i r b n z l k o o r b\n",
      "r e t n e c n l o c n i l a z\n",
      "e r h i g h l i n e t a x i a\n",
      "b t c l o i s t e r s l i d n\n",
      "i s s t o n e s t r e e t r k\n",
      "l l t e d a e r e n a u d a e\n",
      "f l c e n t r a l p a r k u e\n",
      "o a t b r o n x z o o l e g s\n",
      "e w j f k o r e a t o w n a t\n",
      "u i g r a n d c e n t r a l a\n",
      "t t a l c o n e z i s l a n d\n",
      "a e r a u q s n o s i d a m i\n",
      "t l e n n u t d n a l l o h u\n",
      "s r a b a z z n e w μ s e u m\n",
      "\n"
     ]
    }
   ],
   "source": [
    "print(mod_todo_list)"
   ]
  },
  {
   "cell_type": "code",
   "execution_count": 1,
   "id": "543d2b35-da47-4946-9679-811fd862950a",
   "metadata": {},
   "outputs": [
    {
     "name": "stdout",
     "output_type": "stream",
     "text": [
      "After crossing off all NYC-related places (e.g. ''zticoidar'' = ''Radio City''), we find that \n",
      "the solution is LITTLE ITALY.\n"
     ]
    }
   ],
   "source": [
    "print('''After crossing off all NYC-related places (e.g. ''zticoidar'' = ''Radio City''), we find that \n",
    "the solution is LITTLE ITALY.''')"
   ]
  },
  {
   "cell_type": "code",
   "execution_count": null,
   "id": "a9129a90-a6b5-4277-9902-6c2d9b2721fc",
   "metadata": {},
   "outputs": [],
   "source": []
  }
 ],
 "metadata": {
  "kernelspec": {
   "display_name": "Python 3",
   "language": "python",
   "name": "python3"
  },
  "language_info": {
   "codemirror_mode": {
    "name": "ipython",
    "version": 3
   },
   "file_extension": ".py",
   "mimetype": "text/x-python",
   "name": "python",
   "nbconvert_exporter": "python",
   "pygments_lexer": "ipython3",
   "version": "3.8.8"
  }
 },
 "nbformat": 4,
 "nbformat_minor": 5
}
